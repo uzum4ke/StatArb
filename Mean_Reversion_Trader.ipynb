{
 "cells": [
  {
   "cell_type": "code",
   "execution_count": null,
   "id": "e2b785a2-482a-4a26-9cf2-2fceef58a8b9",
   "metadata": {
    "jupyter": {
     "source_hidden": true
    },
    "tags": []
   },
   "outputs": [],
   "source": [
    "import numpy as np\n",
    "import pandas as pd\n",
    "from pandas.tseries.offsets import BDay\n",
    "\n",
    "import MetaTrader5 as mt5\n",
    "from tqdm import tqdm\n",
    "\n",
    "import statsmodels.api as sm\n",
    "from statsmodels.tsa.vector_ar.vecm import coint_johansen\n",
    "from statsmodels.tsa.stattools import adfuller\n",
    "from pandas.tseries.offsets import BDay\n",
    "\n",
    "import csv\n",
    "import time\n",
    "import math\n",
    "from random import randint\n",
    "from itertools import combinations\n",
    "from datetime import datetime, timedelta\n",
    "\n",
    "import requests\n",
    "import json"
   ]
  },
  {
   "cell_type": "code",
   "execution_count": null,
   "id": "aef24ca7-d1af-4611-9dfd-367a993c6adc",
   "metadata": {
    "jupyter": {
     "source_hidden": true
    },
    "tags": []
   },
   "outputs": [],
   "source": [
    "import matplotlib as mpl\n",
    "import matplotlib.pyplot as plt\n",
    "from matplotlib import cycler\n",
    "\n",
    "colors = cycler('color', ['669FEE', '66EE91', '9988DD', 'EECC55', '88BB44', 'FFBBBB'])\n",
    "plt.rc('figure', facecolor='313233')\n",
    "plt.rc('axes',  facecolor='313233', edgecolor='none', axisbelow=True, grid=True, prop_cycle=colors, labelcolor='gray')\n",
    "plt.rc('grid', color='474A4A', linestyle='solid')\n",
    "plt.rc('xtick', color='gray')\n",
    "plt.rc('ytick', direction='out', color='gray')\n",
    "plt.rc('legend', facecolor='313233', edgecolor='313233')\n",
    "plt.rc('text')"
   ]
  },
  {
   "cell_type": "code",
   "execution_count": null,
   "id": "0125abae-919f-4f6a-9167-836095d58c58",
   "metadata": {
    "tags": []
   },
   "outputs": [],
   "source": [
    "# Twitter notification keys\n",
    "\n",
    "## Change\n",
    "chat_id = \"6208180231\"\n",
    "api_key = \"6274819941:AAF8U6FnGv5A0DcSBNXCpnPCJPciwSww8-A\""
   ]
  },
  {
   "cell_type": "code",
   "execution_count": null,
   "id": "47ed7c3d-aa0c-427f-9661-e3496cf45f77",
   "metadata": {
    "jupyter": {
     "source_hidden": true
    },
    "tags": []
   },
   "outputs": [],
   "source": [
    "def send_telegram_message(message: str, chat_id: str, api_key: str,):\n",
    "    responses = {}\n",
    "\n",
    "    proxies = None\n",
    "    headers = {'Content-Type': 'application/json',\n",
    "                'Proxy-Authorization': 'Basic base64'}\n",
    "    data_dict = {'chat_id': chat_id,\n",
    "                 'text': message,\n",
    "                 'parse_mode': 'HTML',\n",
    "                 'disable_notification': True}\n",
    "    data = json.dumps(data_dict)\n",
    "    url = f'https://api.telegram.org/bot{api_key}/sendMessage'\n",
    "    \n",
    "    requests.packages.urllib3.disable_warnings()\n",
    "    response = requests.post(url,\n",
    "                             data=data,\n",
    "                             headers=headers,\n",
    "                             proxies=proxies,\n",
    "                             verify=False)\n",
    "    return response"
   ]
  },
  {
   "cell_type": "code",
   "execution_count": null,
   "id": "c5f19769-268d-430f-84ae-e31a3dee5c5c",
   "metadata": {
    "jupyter": {
     "source_hidden": true
    },
    "tags": []
   },
   "outputs": [],
   "source": [
    "def get_bars(symbol, start_date, end_date, timeframe=mt5.TIMEFRAME_M1):\n",
    "    mt5.initialize()\n",
    "    bars = mt5.copy_rates_range(symbol, timeframe, start_date, end_date)\n",
    "    df_bars = pd.DataFrame(bars)\n",
    "    df_bars[\"time\"] = pd.to_datetime(df_bars[\"time\"], unit=\"s\")\n",
    "    return df_bars"
   ]
  },
  {
   "cell_type": "code",
   "execution_count": null,
   "id": "1a9009f7-c0ae-4eb6-a498-426f147e8ac1",
   "metadata": {
    "jupyter": {
     "source_hidden": true
    },
    "tags": []
   },
   "outputs": [],
   "source": [
    "def get_latest_bar(symbol, timeframe=mt5.TIMEFRAME_M1):\n",
    "    mt5.initialize()\n",
    "    bar = mt5.copy_rates_from(\n",
    "        symbol, \n",
    "        timeframe, \n",
    "        datetime.now(), \n",
    "        1)  # number of bars\n",
    "    df_bar = pd.DataFrame(bar)\n",
    "    df_bar[\"time\"] = pd.to_datetime(df_bar[\"time\"], unit=\"s\")\n",
    "    return df_bar"
   ]
  },
  {
   "cell_type": "code",
   "execution_count": null,
   "id": "1e2c1618-bcfc-4e79-a47f-6d9675b63210",
   "metadata": {
    "jupyter": {
     "source_hidden": true
    },
    "tags": []
   },
   "outputs": [],
   "source": [
    "def get_prices(location):\n",
    "    mt5.initialize()\n",
    "\n",
    "    symbol_list = []\n",
    "    for symbol in mt5.symbols_get():\n",
    "        if location in symbol.path:\n",
    "            symbol_list.append(symbol)\n",
    "            \n",
    "    return symbol_list"
   ]
  },
  {
   "cell_type": "code",
   "execution_count": null,
   "id": "a928bcb1-d1cf-43ab-9bd7-1eff48e9d2a9",
   "metadata": {
    "jupyter": {
     "source_hidden": true
    },
    "tags": []
   },
   "outputs": [],
   "source": [
    "def new_bar_event(symbol, last_bar):\n",
    "    mt5.initialize()\n",
    "    \n",
    "    # Fixing a formatting error when getting last_bar['time'].iloc[0]\n",
    "    date_str = last_bar['time'].iloc[0]\n",
    "    date_format = '%Y-%m-%d %H:%M:%S'\n",
    "\n",
    "    last_bar_time_formatted = datetime.strptime(date_str, date_format)\n",
    "    while True:\n",
    "        new_bar = get_latest_bar(symbol)        \n",
    "        if new_bar['time'].iloc[0] != last_bar_time_formatted:\n",
    "            return new_bar\n",
    "        \n",
    "        time.sleep(10)"
   ]
  },
  {
   "cell_type": "code",
   "execution_count": null,
   "id": "ef445dc8-25bf-43d6-9df6-630c7688b9d3",
   "metadata": {
    "jupyter": {
     "source_hidden": true
    },
    "tags": []
   },
   "outputs": [],
   "source": [
    "def get_num_of_lots(name, leverage=30, risk=0.01):\n",
    "    ask_per_fraction = (mt5.symbols_get(name)[0].ask * mt5.symbols_get(name)[0].trade_contract_size) * mt5.symbols_get(name)[0].volume_min\n",
    "    ask_per_fraction_m = ask_per_fraction / leverage\n",
    "    capital_at_risk = mt5.account_info().balance * risk\n",
    "    \n",
    "    order_size = math.floor(capital_at_risk / ask_per_fraction_m) * mt5.symbols_get(symbol)[0].volume_min\n",
    "    return  order_size"
   ]
  },
  {
   "cell_type": "code",
   "execution_count": null,
   "id": "37ef6a68-b6e6-477d-be5b-49cfc34cb480",
   "metadata": {
    "jupyter": {
     "source_hidden": true
    },
    "tags": []
   },
   "outputs": [],
   "source": [
    "def find_filling_mode(symbol):\n",
    "    mt5.initialize()\n",
    "    \n",
    "    for i in range(2):\n",
    "        request = {\n",
    "            \"action\": mt5.TRADE_ACTION_DEAL,\n",
    "            \"symbol\": symbol,\n",
    "            \"volume\": mt5.symbol_info(symbol).volume_min,\n",
    "            \"type\": mt5.ORDER_TYPE_BUY,\n",
    "            \"price\": mt5.symbol_info_tick(symbol).ask,\n",
    "            \"type_filling\": i,\n",
    "            \"type_time\": mt5.ORDER_TIME_GTC}\n",
    " \n",
    "        result = mt5.order_check(request)\n",
    "            \n",
    "        if result.comment == \"Done\":\n",
    "            break\n",
    " \n",
    "    return i"
   ]
  },
  {
   "cell_type": "code",
   "execution_count": null,
   "id": "75f9ccd9-63d2-4743-9e5c-1289540bad25",
   "metadata": {
    "jupyter": {
     "source_hidden": true
    },
    "tags": []
   },
   "outputs": [],
   "source": [
    "def open_long(name, lot_size):\n",
    "    mt5.initialize()\n",
    "    filling_type = find_filling_mode(name)\n",
    "    request = {\n",
    "            \"action\" : mt5.TRADE_ACTION_DEAL,\n",
    "            \"symbol\" : name,\n",
    "            \"volume\" : lot_size,\n",
    "            \"type\" : mt5.ORDER_TYPE_BUY,   # mt5.ORDER_TYPE_SELL\n",
    "            \"price\" : mt5.symbol_info_tick(name).ask, # mt5.symbol_info_tick(symbol).bid \n",
    "            \"deviation\" : 10,\n",
    "            \"type_filling\" : filling_type,\n",
    "            \"type_time \" : mt5.ORDER_TIME_GTC\n",
    "        }\n",
    "    \n",
    "    result = mt5.order_send(request)\n",
    "    return result"
   ]
  },
  {
   "cell_type": "code",
   "execution_count": null,
   "id": "a60cd0e2-6009-4df2-adf3-797ad34d5acc",
   "metadata": {
    "jupyter": {
     "source_hidden": true
    },
    "tags": []
   },
   "outputs": [],
   "source": [
    "def close_long(name, lot_size, order_id):\n",
    "    mt5.initialize()\n",
    "    filling_type = find_filling_mode(name)\n",
    "    request = {\n",
    "            \"action\" : mt5.TRADE_ACTION_DEAL,\n",
    "            \"symbol\" : name,\n",
    "            \"position\" : order_id,\n",
    "            \"volume\" : lot_size,\n",
    "            \"type\" : mt5.ORDER_TYPE_SELL,\n",
    "            \"price\" : mt5.symbol_info_tick(name).bid, \n",
    "            \"deviation\" : 10,\n",
    "            \"type_filling\" : filling_type,\n",
    "            \"type_time \" : mt5.ORDER_TIME_GTC\n",
    "        }\n",
    "    \n",
    "    result = mt5.order_send(request)\n",
    "    return result"
   ]
  },
  {
   "cell_type": "code",
   "execution_count": null,
   "id": "b77dd3ef-21cb-4227-9ee5-9c486f311dfd",
   "metadata": {
    "jupyter": {
     "source_hidden": true
    },
    "tags": []
   },
   "outputs": [],
   "source": [
    "def open_short(name, lot_size):\n",
    "    mt5.initialize()\n",
    "    filling_type = find_filling_mode(name)\n",
    "    request = {\n",
    "            \"action\" : mt5.TRADE_ACTION_DEAL,\n",
    "            \"symbol\" : name,\n",
    "            \"volume\" : lot_size,\n",
    "            \"type\" : mt5.ORDER_TYPE_SELL,\n",
    "            \"price\" : mt5.symbol_info_tick(name).bid, \n",
    "            \"deviation\" : 10,\n",
    "            \"type_filling\" : filling_type,\n",
    "            \"type_time \" : mt5.ORDER_TIME_GTC\n",
    "        }\n",
    "    \n",
    "    result = mt5.order_send(request)\n",
    "    return result"
   ]
  },
  {
   "cell_type": "code",
   "execution_count": null,
   "id": "f6b977e3-f721-4833-8d0d-032c2d71f43a",
   "metadata": {
    "jupyter": {
     "source_hidden": true
    },
    "tags": []
   },
   "outputs": [],
   "source": [
    "def close_short(name, lot_size, order_id):\n",
    "    mt5.initialize()\n",
    "    filling_type = find_filling_mode(name)\n",
    "    request = {\n",
    "            \"action\" : mt5.TRADE_ACTION_DEAL,\n",
    "            \"symbol\" : name,\n",
    "            \"position\" : order_id,\n",
    "            \"volume\" : lot_size,\n",
    "            \"type\" : mt5.ORDER_TYPE_BUY,   # mt5.ORDER_TYPE_SELL\n",
    "            \"price\" : mt5.symbol_info_tick(name).ask, # mt5.symbol_info_tick(symbol).bid \n",
    "            \"deviation\" : 10,\n",
    "            \"type_filling\" : filling_type,\n",
    "            \"type_time \" : mt5.ORDER_TIME_GTC\n",
    "        }\n",
    "        \n",
    "    result = mt5.order_send(request)   # Sends order to broker\n",
    "    return result  "
   ]
  },
  {
   "cell_type": "code",
   "execution_count": null,
   "id": "45df26f5-a50a-4c64-abe1-9d0d897520b6",
   "metadata": {
    "jupyter": {
     "source_hidden": true
    },
    "tags": []
   },
   "outputs": [],
   "source": [
    "def get_pairs(location):\n",
    "    mt5.initialize()\n",
    "\n",
    "    symbol_list = []\n",
    "    for symbol in mt5.symbols_get():\n",
    "        if location in symbol.path:\n",
    "            symbol_list.append(symbol)\n",
    "            \n",
    "    return list(combinations(symbol_list, 2))"
   ]
  },
  {
   "cell_type": "code",
   "execution_count": null,
   "id": "0277221e-fbf0-4bf0-8e2e-0ebf88f757b0",
   "metadata": {
    "jupyter": {
     "source_hidden": true
    },
    "tags": []
   },
   "outputs": [],
   "source": [
    "def get_pairs_close(symbol_pair, start_date, end_date):\n",
    "    mt5.initialize()\n",
    "    \n",
    "    close0 = get_bars(symbol_pair[0].name, start_date, end_date)['close']\n",
    "    close1 = get_bars(symbol_pair[1].name, start_date, end_date)['close']\n",
    "    \n",
    "    if close0.empty or close1.empty:\n",
    "        return pd.Series([], dtype='float64')\n",
    "    else:\n",
    "        pairs_close_data = pd.concat([close0, close1], axis=1, keys = ['close0', 'close1']).dropna()\n",
    "        return pairs_close_data"
   ]
  },
  {
   "cell_type": "code",
   "execution_count": null,
   "id": "8143643e-735c-4f94-b2ca-f8962fa5cae3",
   "metadata": {
    "jupyter": {
     "source_hidden": true
    },
    "tags": []
   },
   "outputs": [],
   "source": [
    "def first_cointegration_test(pair_close_data):\n",
    "    COINTEGRATION_CONFIDENCE_LEVEL = 99\n",
    "    result = coint_johansen(pair_close_data, 0, 1)\n",
    "    \n",
    "    confidence_level_cols = {\n",
    "        90: 0,\n",
    "        95: 1,\n",
    "        99: 2\n",
    "    }\n",
    "    confidence_level_col = confidence_level_cols[COINTEGRATION_CONFIDENCE_LEVEL]\n",
    "    \n",
    "    trace_crit_value = result.cvt[:, confidence_level_col]\n",
    "    eigen_crit_value = result.cvm[:, confidence_level_col]\n",
    "    \n",
    "    if np.all(result.lr1 >= trace_crit_value) and np.all(result.lr2 >= eigen_crit_value):\n",
    "        return True\n",
    "    else:\n",
    "        return False"
   ]
  },
  {
   "cell_type": "code",
   "execution_count": null,
   "id": "e2b30d2d-e3cf-4d42-84ee-d17f2454b5a2",
   "metadata": {
    "jupyter": {
     "source_hidden": true
    },
    "tags": []
   },
   "outputs": [],
   "source": [
    "# Engle-Granger test\n",
    "def second_cointegration_test(pair_close_data):\n",
    "    # Step 1: Perform OLS regression of one time series on the other\n",
    "    y = pair_close_data.iloc[:, 0]\n",
    "    x = sm.add_constant(pair_close_data.iloc[:, 1])\n",
    "    model = sm.OLS(y, x)\n",
    "    results = model.fit()\n",
    "    \n",
    "    # Step 2: Test residuals for stationarity using ADF test\n",
    "    residuals = y - results.predict(x)\n",
    "    adf_result = adfuller(residuals)\n",
    "    \n",
    "    # Step 3: If residuals are stationary, the two time series are considered cointegrated\n",
    "    if adf_result[1] < 0.01:\n",
    "        return results.params[1]\n",
    "    else:\n",
    "        return None\n"
   ]
  },
  {
   "cell_type": "code",
   "execution_count": null,
   "id": "21e257bb-b04b-4be3-bf9d-fe4e073a82a4",
   "metadata": {
    "jupyter": {
     "source_hidden": true
    },
    "tags": []
   },
   "outputs": [],
   "source": [
    "def compute_Hc(time_series, max_lag=20):\n",
    "        \"\"\"Returns the Hurst Exponent of the time series\"\"\"\n",
    "    \n",
    "        time_series = time_series.to_numpy()\n",
    "        lags = range(2, max_lag)\n",
    "\n",
    "        # variances of the lagged differences\n",
    "        tau = [np.std(np.subtract(time_series[lag:], time_series[:-lag])) for lag in lags]\n",
    "        \n",
    "        # calculate the slope of the log plot -> the Hurst Exponent\n",
    "        reg = np.polyfit(np.log(lags), np.log(tau), 1)\n",
    "\n",
    "        return reg[0]"
   ]
  },
  {
   "cell_type": "code",
   "execution_count": null,
   "id": "30b3174d-5315-44f4-8ba9-c5a265d7b7d9",
   "metadata": {
    "jupyter": {
     "source_hidden": true
    },
    "tags": []
   },
   "outputs": [],
   "source": [
    "def first_sieve(all_pairs, start_date, end_date):\n",
    "    candidate_stationary_pairs = []\n",
    "    for pair in tqdm(all_pairs):\n",
    "        pairs_close_data = get_pairs_close(pair, start_date, end_date)\n",
    "        if pairs_close_data.empty:\n",
    "            continue\n",
    "        else:\n",
    "            if first_cointegration_test(pairs_close_data):\n",
    "                candidate_stationary_pairs.append(pair)\n",
    "                \n",
    "    return candidate_stationary_pairs"
   ]
  },
  {
   "cell_type": "code",
   "execution_count": null,
   "id": "31c4a2d8-3d7f-4468-8f62-4349c81a5160",
   "metadata": {
    "jupyter": {
     "source_hidden": true
    },
    "tags": []
   },
   "outputs": [],
   "source": [
    "def second_sieve(candidate_stationary_pairs, start_date, end_date):\n",
    "    stationary_pairs = []\n",
    "    for pair in tqdm(candidate_stationary_pairs):\n",
    "        pairs_close_data = get_pairs_close(pair, start_date, end_date)\n",
    "        \n",
    "        if pairs_close_data.empty:\n",
    "            continue\n",
    "        else:\n",
    "            slope = second_cointegration_test(pairs_close_data) \n",
    "            if slope:\n",
    "                stationary_pairs.append({'coint_pair': pair, 'slope' : slope})\n",
    "                \n",
    "    return stationary_pairs"
   ]
  },
  {
   "cell_type": "code",
   "execution_count": null,
   "id": "5c40e465-8e42-4603-b5f6-55f27886c84a",
   "metadata": {
    "jupyter": {
     "source_hidden": true
    },
    "tags": []
   },
   "outputs": [],
   "source": [
    "def third_seive(stationary_pairs, start_date, end_date):\n",
    "    consistent_stationary_pairs = []\n",
    "    \n",
    "    for pair in tqdm(stationary_pairs):\n",
    "        stationary_pair = get_pairs_close(pair[\"coint_pair\"], start_date, end_date)\n",
    "        artificial_asset = stationary_pair['close0'] - pair['slope'] * stationary_pair['close1']\n",
    "        \n",
    "        if compute_Hc(artificial_asset) < 0.5:\n",
    "            consistent_stationary_pairs.append(pair)\n",
    "                \n",
    "    return consistent_stationary_pairs  "
   ]
  },
  {
   "cell_type": "code",
   "execution_count": null,
   "id": "f9bc35b2-975d-4400-b401-84fdd18ad0bf",
   "metadata": {
    "jupyter": {
     "source_hidden": true
    },
    "tags": []
   },
   "outputs": [],
   "source": [
    "def rolling_forward_test(previous_prices, todays_prices, penalty1, penalty2):\n",
    "    \n",
    "    #print(previous_prices)\n",
    "    #print(todays_prices)\n",
    "    \n",
    "    account  = 1000\n",
    "    risk = 0.005\n",
    "    \n",
    "    \n",
    "    rolling_interval = 100\n",
    "    test = previous_prices\n",
    "    test[test.size] = todays_prices[0]\n",
    "    \n",
    "    # Positions are encoded as follows\n",
    "    HIGH = 1\n",
    "    VHIGH = 2\n",
    "    FREE = 0\n",
    "    LOW = -1\n",
    "    VLOW = -2\n",
    "    \n",
    "    \n",
    "    position_type = 0\n",
    "    wins = 0\n",
    "    losses = 0\n",
    "\n",
    "    for i in tqdm(range(1, len(todays_prices))):\n",
    "        \n",
    "        # Calculate trade thresholds\n",
    "        #rolling_mean = apply_kalman_filter(test.rolling(rolling_interval).mean().dropna())\n",
    "        #rolling_std = apply_kalman_filter(test.rolling(rolling_interval).std().dropna())\n",
    "        \n",
    "        rolling_mean = test.rolling(rolling_interval).mean().dropna()\n",
    "        rolling_std = test.rolling(rolling_interval).std().dropna()\n",
    "        \n",
    "                                   \n",
    "        tp = rolling_mean\n",
    "        open_high = rolling_mean + rolling_std\n",
    "        open_low = rolling_mean - rolling_std \n",
    "        \n",
    "        \n",
    "        tp_high = rolling_mean + rolling_std\n",
    "        tp_low = rolling_mean - rolling_std\n",
    "        \n",
    "        open_vhigh = rolling_mean + 2 * rolling_std\n",
    "        open_vlow = rolling_mean - 2 * rolling_std \n",
    "        \n",
    "        #sl_high = rolling_mean + 2 * rolling_std\n",
    "        #sl_low = rolling_mean - 2 * rolling_std\n",
    "        \n",
    "        sl_vhigh = rolling_mean + 3 * rolling_std\n",
    "        sl_vlow = rolling_mean - 3 * rolling_std\n",
    "    \n",
    "        # Trade!\n",
    "        if position_type == FREE:\n",
    "            if todays_prices[-2] < open_high.iloc[-2] and todays_prices[-1] >= open_high.iloc[-1]:\n",
    "                # Long first Short last\n",
    "                position_type = HIGH\n",
    "                account -= penalty2\n",
    "            elif todays_prices[-2] > open_low.iloc[-2] and todays_prices[-1] <= open_low.iloc[-1]:\n",
    "                # Short first Long last\n",
    "                position_type = LOW\n",
    "                account -= penalty1\n",
    "                \n",
    "        elif position_type == HIGH:\n",
    "            if todays_prices[-2] > tp.iloc[-2] and todays_prices[-1] <= tp.iloc[-1]:\n",
    "                # Long first Short last\n",
    "                wins += 1\n",
    "                account += account * risk \n",
    "                position_type = FREE\n",
    "            elif todays_prices[-2] < open_vhigh.iloc[-2] and todays_prices[-1] >= open_vhigh.iloc[-1]:\n",
    "                position_type = VHIGH\n",
    "                account -= penalty2\n",
    "\n",
    "        elif position_type == LOW:\n",
    "            if todays_prices[-2] < tp.iloc[-2] and todays_prices[-1] >= tp.iloc[-1]:\n",
    "                # Long first Short last\n",
    "                wins += 1\n",
    "                account += account * risk\n",
    "                position_type = FREE\n",
    "            elif todays_prices[-2] > open_vlow.iloc[-2] and todays_prices[-1] <= open_vlow.iloc[-1]:\n",
    "                position_type = VLOW\n",
    "                account -= penalty1\n",
    "         \n",
    "        elif position_type == VHIGH:\n",
    "            if todays_prices[-2] > tp_high.iloc[-2] and todays_prices[-1] <= tp_high.iloc[-1]:\n",
    "                # Long first Short last\n",
    "                wins += 1\n",
    "                account += account * risk\n",
    "                position_type = FREE\n",
    "            elif todays_prices[-2] < sl_vhigh.iloc[-2] and todays_prices[-1] >= sl_vhigh.iloc[-1]:\n",
    "                account -= account * risk \n",
    "                losses += 1\n",
    "                position_type = FREE\n",
    "            \n",
    "        elif position_type == VLOW:\n",
    "            if todays_prices[-2] < tp_low.iloc[-2] and todays_prices[-1] >= tp_low.iloc[-1]:\n",
    "                # Long first Short last\n",
    "                wins += 1\n",
    "                account += account * risk \n",
    "                position_type = FREE\n",
    "            elif todays_prices[-2] > sl_vlow.iloc[-2] and todays_prices[-1] <= sl_vlow.iloc[-1]:\n",
    "                account -= account * risk \n",
    "                losses += 1\n",
    "                position_type = FREE\n",
    "                \n",
    "        if account <= 950:\n",
    "            print(\"BROKEN\")\n",
    "            break\n",
    "        \n",
    "        test[test.size] = todays_prices[-1]\n",
    "        \n",
    "        \n",
    "    plt.figure().set_figwidth(15)\n",
    "    plt.plot(test)\n",
    "    plt.plot(tp, color='k')\n",
    "    plt.plot(open_high, color='y')\n",
    "    plt.plot(open_low, color='y')\n",
    "    plt.plot(open_vhigh, color='g')\n",
    "    plt.plot(open_vlow, color='g')\n",
    "    plt.plot(sl_vhigh, color='r')\n",
    "    plt.plot(sl_vlow, color='r')\n",
    "    plt.show()\n",
    "\n",
    "    print(f'WINS: {wins}, LOSSES: {losses}')\n",
    "    print(f'ACCOUNT BALANCE: {account}')\n",
    "    print()\n",
    "    return account, wins, losses\n",
    "        \n",
    "    "
   ]
  },
  {
   "cell_type": "code",
   "execution_count": null,
   "id": "dff18b7f-1818-4625-a035-0980d4a6993b",
   "metadata": {
    "jupyter": {
     "source_hidden": true
    },
    "tags": []
   },
   "outputs": [],
   "source": [
    "location = \"Retail\\\\Forex\"\n",
    "all_pairs = get_pairs(location)\n",
    "\n",
    "# Monte Carlo simulation\n",
    "      \n",
    "\n",
    "t_end_date = datetime.now()\n",
    "t_start_date = t_end_date - timedelta(days=1)  \n",
    "y_end_date = t_start_date\n",
    "y_start_date = y_end_date - timedelta(days=5)\n",
    "\n",
    "\n",
    "\n",
    "print(t_end_date)\n",
    "print(t_start_date)\n",
    "print(y_end_date)\n",
    "print(y_start_date)\n",
    "\n",
    "#print(t_end_date)\n",
    "#print(t_start_date)\n",
    "\n",
    "\n"
   ]
  },
  {
   "cell_type": "code",
   "execution_count": null,
   "id": "d1534c9c-1703-4c85-890e-b6b7f6f0cb54",
   "metadata": {
    "jupyter": {
     "source_hidden": true
    },
    "tags": []
   },
   "outputs": [],
   "source": [
    "# Run a backtest\n",
    "\n",
    "for index in range(len(y_consistent_pairs)):\n",
    "\n",
    "    y_consistent_pair = get_pairs_close(y_consistent_pairs[index][\"coint_pair\"], y_start_date, y_end_date)\n",
    "    beta = y_consistent_pairs[index][\"slope\"]\n",
    "    y_artificial_asset = y_consistent_pair[\"close0\"] - beta * y_consistent_pair[\"close1\"]\n",
    "\n",
    "    t_consistent_pair = get_pairs_close(y_consistent_pairs[index][\"coint_pair\"], t_start_date, t_end_date)\n",
    "    t_artificial_asset = t_consistent_pair[\"close0\"] - beta * t_consistent_pair[\"close1\"]    \n",
    "\n",
    "    print(f'PAIR: {y_consistent_pairs[index][\"coint_pair\"][0].name}, {y_consistent_pairs[index][\"coint_pair\"][1].name}')\n",
    "    \n",
    "    account = 1000\n",
    "    risk = 0.05\n",
    "    capital_at_risk = account * risk\n",
    "    account, wins, losses = rolling_forward_test(y_artificial_asset, t_artificial_asset, 0, 0)"
   ]
  },
  {
   "cell_type": "code",
   "execution_count": 90,
   "id": "e570c3d8-932d-4dd1-acd1-161c31615905",
   "metadata": {
    "tags": []
   },
   "outputs": [],
   "source": [
    "def trade_enginet(data, name_1, name_2, lot_size_1, lot_size_2, position_type):\n",
    "    \n",
    "    rolling_interval = 100\n",
    "    \n",
    "    # Positions are encoded as follows\n",
    "    HIGH = 1\n",
    "    VHIGH = 2\n",
    "    FREE = 0\n",
    "    LOW = -1\n",
    "    VLOW = -2\n",
    "            \n",
    "    rolling_mean = data.rolling(rolling_interval).mean().dropna()\n",
    "    rolling_std = data.rolling(rolling_interval).std().dropna()\n",
    "                         \n",
    "    tp = rolling_mean\n",
    "    open_high = rolling_mean + rolling_std\n",
    "    open_low = rolling_mean - rolling_std \n",
    "        \n",
    "    tp_high = rolling_mean + rolling_std\n",
    "    tp_low = rolling_mean - rolling_std\n",
    "        \n",
    "    open_vhigh = rolling_mean + 2 * rolling_std\n",
    "    open_vlow = rolling_mean - 2 * rolling_std \n",
    "        \n",
    "    sl_vhigh = rolling_mean + 3 * rolling_std\n",
    "    sl_vlow = rolling_mean - 3 * rolling_std\n",
    "    \n",
    "    # Trade!\n",
    "    if position_type == FREE:\n",
    "        if todays_prices[-2] < open_high.iloc[-2] and todays_prices[-1] >= open_high.iloc[-1]:\n",
    "            # Short first Long last\n",
    "            open_short(name_1, lot_size_1)\n",
    "            open_long(name_2, lot_size_2)\n",
    "            send_telegram_message(f'Openned High Positions at: {data.iloc[-1]}, Account Balance is {mt5.account_info().balance}.', chat_id, api_key)\n",
    "            print(f'Openned High Positions at: {data.iloc[-1]}, Account Balance is {mt5.account_info().balance}.')\n",
    "            position_type = HIGH\n",
    "            \n",
    "        elif todays_prices[-2] > open_low.iloc[-2] and todays_prices[-1] <= open_low.iloc[-1]:\n",
    "            # Long first Short last\n",
    "            open_short(name_2, lot_size_2)\n",
    "            open_long(name_1, lot_size_1)\n",
    "            send_telegram_message(f'Openned Low Positions at: {data.iloc[-1]}, Account Balance is {mt5.account_info().balance}.', chat_id, api_key)\n",
    "            print(f'Openned Low Positions at: {data.iloc[-1]}, Account Balance is {mt5.account_info().balance}.')\n",
    "            position_type = LOW\n",
    "                \n",
    "    elif position_type == HIGH:\n",
    "        if todays_prices[-2] > tp.iloc[-2] and todays_prices[-1] <= tp.iloc[-1]:\n",
    "            position_1 = mt5.positions_get()[0]\n",
    "            position_2 = mt5.positions_get()[1]\n",
    "            \n",
    "            if position_1.type == 0:\n",
    "                close_long(name_2, lot_size_2, position.ticket)\n",
    "            elif position_1.type == 1:\n",
    "                close_short(name_1, lot_size_1, position.ticket)\n",
    "                \n",
    "            if position_2.type == 0:\n",
    "                close_long(name_2, lot_size_2, position.ticket)\n",
    "            elif position_2.type == 1:\n",
    "                close_short(name_1, lot_size_1, position.ticket)    \n",
    "                    \n",
    "            send_telegram_message(f'Closed High Positions at: {data.iloc[-1]}, Account Balance is {mt5.account_info().balance}.', chat_id, api_key)\n",
    "            print(f'Closed High Positions at: {data.iloc[-1]}, Account Balance is {mt5.account_info().balance}.')       \n",
    "            position_type = FREE\n",
    "        \n",
    "    elif position_type == LOW:\n",
    "        if todays_prices[-2] < tp.iloc[-2] and todays_prices[-1] >= tp.iloc[-1]:\n",
    "            position_1 = mt5.positions_get()[0]\n",
    "            position_2 = mt5.positions_get()[1]\n",
    "            \n",
    "            if position_1.type == 0:\n",
    "                close_long(name_2, lot_size_2, position_1.ticket)\n",
    "            elif position_1.type == 1:\n",
    "                close_short(name_1, lot_size_1, position_1.ticket)\n",
    "                \n",
    "            if position_2.type == 0:\n",
    "                close_long(name_2, lot_size_2, position_2.ticket)\n",
    "            elif position_2.type == 1:\n",
    "                close_short(name_1, lot_size_1, position_2.ticket)\n",
    "            \n",
    "            send_telegram_message(f'Closed Low Positions at: {data.iloc[-1]}, Account Balance is {mt5.account_info().balance}.', chat_id, api_key)\n",
    "            print(f'Closed Low Positions at: {data.iloc[-1]}, Account Balance is {mt5.account_info().balance}.')\n",
    "            position_type = FREE\n",
    "                     \n",
    "    return position_type\n",
    "    "
   ]
  },
  {
   "cell_type": "code",
   "execution_count": 97,
   "id": "93e0ed91-fa86-4e2d-8840-1c2f4322a692",
   "metadata": {
    "tags": []
   },
   "outputs": [
    {
     "name": "stderr",
     "output_type": "stream",
     "text": [
      "100%|██████████████████████████████████████████████████████████████████████████████| 5151/5151 [02:21<00:00, 36.35it/s]\n"
     ]
    },
    {
     "name": "stdout",
     "output_type": "stream",
     "text": [
      "68\n"
     ]
    },
    {
     "name": "stderr",
     "output_type": "stream",
     "text": [
      "100%|██████████████████████████████████████████████████████████████████████████████████| 68/68 [00:03<00:00, 18.20it/s]\n"
     ]
    },
    {
     "name": "stdout",
     "output_type": "stream",
     "text": [
      "25\n"
     ]
    },
    {
     "name": "stderr",
     "output_type": "stream",
     "text": [
      "100%|██████████████████████████████████████████████████████████████████████████████████| 25/25 [00:00<00:00, 40.09it/s]"
     ]
    },
    {
     "name": "stdout",
     "output_type": "stream",
     "text": [
      "25\n"
     ]
    },
    {
     "name": "stderr",
     "output_type": "stream",
     "text": [
      "\n"
     ]
    }
   ],
   "source": [
    "##################################################\n",
    "# Generate a random artificial asset\n",
    "\n",
    "end_date = datetime.now()\n",
    "start_date = end_date - BDay(4)\n",
    "\n",
    "mt5.initialize()\n",
    "#location = \"Retail\\\\Forex\"\n",
    "location = \"Retail\\\\ETFs\"\n",
    "\n",
    "all_pairs = get_pairs(location)\n",
    "\n",
    "# Test for cointegration\n",
    "candidate_stationary_pairs = first_sieve(all_pairs, start_date, end_date)\n",
    "print(len(candidate_stationary_pairs))\n",
    "stationary_pairs = second_sieve(candidate_stationary_pairs, start_date, end_date)\n",
    "print(len(stationary_pairs))\n",
    "consistent_pairs = third_seive(stationary_pairs, start_date, end_date)\n",
    "print(len(consistent_pairs))\n",
    "\n",
    "##################################################"
   ]
  },
  {
   "cell_type": "code",
   "execution_count": 98,
   "id": "2fe67b77-1dbe-462f-bc92-29b36117e873",
   "metadata": {
    "tags": []
   },
   "outputs": [
    {
     "name": "stdout",
     "output_type": "stream",
     "text": [
      "Invesco_DB_Ag_Fund_(DBA.P) MSCI_Hong_Kong_ETF_(EWH.P)\n",
      "Invesco_DB_Ag_Fund_(DBA.P) MSCI_Sth_Africa_ETF_(EZA.P)\n",
      "Invesco_DB_Ag_Fund_(DBA.P) iShares_China_(MCHI.O)\n",
      "Invesco_DB_Ag_Fund_(DBA.P) 3D_Printing_ETF_(PRNT.P)\n",
      "Invesco_DB_Ag_Fund_(DBA.P) iShares_Short_T-Bond_(SHV.O)\n",
      "Invesco_DB_Ag_Fund_(DBA.P) iShares_Semicond._(SOXX.O)\n",
      "Invesco_DB_Ag_Fund_(DBA.P) iShares_Thailand_ETF_(THD.P)\n",
      "EM_Dividend_ETF_(EDIV.P) iShares_Peru_ETF_(EPU.P)\n",
      "EM_Dividend_ETF_(EDIV.P) MSCI_Sth_Africa_ETF_(EZA.P)\n",
      "EM_Dividend_ETF_(EDIV.P) Global_Carbon_ETF_(KRBN.P)\n",
      "EM_Dividend_ETF_(EDIV.P) VanEck_Agribusiness_(MOO.P)\n",
      "EM_Dividend_ETF_(EDIV.P) MSCI_Norway_ETF_(NORW.P)\n",
      "EM_Dividend_ETF_(EDIV.P) iShares_Short_T-Bond_(SHV.O)\n",
      "EM_Dividend_ETF_(EDIV.P) MSCI_India_SC_ETF_(SMIN.N)\n",
      "EM_Dividend_ETF_(EDIV.P) iShares_Thailand_ETF_(THD.P)\n",
      "iShares_Taiwan_ETF_(EWT.P) India_50_ETF_(INDY.O)\n",
      "MSCI_South_Korea_ETF_(EWY.P) MSCI_Sth_Africa_ETF_(EZA.P)\n",
      "MSCI_Sth_Africa_ETF_(EZA.P) India_50_ETF_(INDY.O)\n",
      "MSCI_Sth_Africa_ETF_(EZA.P) iShares_Short_T-Bond_(SHV.O)\n",
      "MSCI_Sth_Africa_ETF_(EZA.P) iShares_Semicond._(SOXX.O)\n",
      "MSCI_Sth_Africa_ETF_(EZA.P) iShares_Thailand_ETF_(THD.P)\n",
      "India_50_ETF_(INDY.O) iShares_US_Growth_(IUSG.P)\n",
      "India_50_ETF_(INDY.O) Global_Telecom_ETF_(IXP.P)\n",
      "iShares_Short_T-Bond_(SHV.O) iShares_Thailand_ETF_(THD.P)\n",
      "MSCI_India_SC_ETF_(SMIN.N) Vanguard_Util_ETF_(VPU.P)\n"
     ]
    }
   ],
   "source": [
    "for pair in consistent_pairs:\n",
    "    print(pair['coint_pair'][0].name, pair['coint_pair'][1].name)"
   ]
  },
  {
   "cell_type": "code",
   "execution_count": 92,
   "id": "ce93faaa-7c9c-4abf-b700-2b6abda1324d",
   "metadata": {
    "tags": []
   },
   "outputs": [
    {
     "ename": "ValueError",
     "evalue": "empty range for randrange() (0, 0, 0)",
     "output_type": "error",
     "traceback": [
      "\u001b[1;31m---------------------------------------------------------------------------\u001b[0m",
      "\u001b[1;31mValueError\u001b[0m                                Traceback (most recent call last)",
      "Cell \u001b[1;32mIn[92], line 12\u001b[0m\n\u001b[0;32m      8\u001b[0m         filtered_pair\u001b[38;5;241m.\u001b[39mappend(pair)\n\u001b[0;32m     11\u001b[0m \u001b[38;5;66;03m# Construct a randomly sampled artificial asset\u001b[39;00m\n\u001b[1;32m---> 12\u001b[0m rand_index \u001b[38;5;241m=\u001b[39m \u001b[43mrandint\u001b[49m\u001b[43m(\u001b[49m\u001b[38;5;241;43m0\u001b[39;49m\u001b[43m,\u001b[49m\u001b[43m \u001b[49m\u001b[38;5;28;43mlen\u001b[39;49m\u001b[43m(\u001b[49m\u001b[43mfiltered_pair\u001b[49m\u001b[43m)\u001b[49m\u001b[43m \u001b[49m\u001b[38;5;241;43m-\u001b[39;49m\u001b[43m \u001b[49m\u001b[38;5;241;43m1\u001b[39;49m\u001b[43m)\u001b[49m\n\u001b[0;32m     13\u001b[0m pair \u001b[38;5;241m=\u001b[39m filtered_pair[rand_index]\n\u001b[0;32m     15\u001b[0m pair_close \u001b[38;5;241m=\u001b[39m get_pairs_close(pair[\u001b[38;5;124m\"\u001b[39m\u001b[38;5;124mcoint_pair\u001b[39m\u001b[38;5;124m\"\u001b[39m], start_date, end_date)\n",
      "File \u001b[1;32m~\\AppData\\Local\\Programs\\Python\\Python310\\lib\\random.py:370\u001b[0m, in \u001b[0;36mRandom.randint\u001b[1;34m(self, a, b)\u001b[0m\n\u001b[0;32m    366\u001b[0m \u001b[38;5;28;01mdef\u001b[39;00m \u001b[38;5;21mrandint\u001b[39m(\u001b[38;5;28mself\u001b[39m, a, b):\n\u001b[0;32m    367\u001b[0m \u001b[38;5;250m    \u001b[39m\u001b[38;5;124;03m\"\"\"Return random integer in range [a, b], including both end points.\u001b[39;00m\n\u001b[0;32m    368\u001b[0m \u001b[38;5;124;03m    \"\"\"\u001b[39;00m\n\u001b[1;32m--> 370\u001b[0m     \u001b[38;5;28;01mreturn\u001b[39;00m \u001b[38;5;28;43mself\u001b[39;49m\u001b[38;5;241;43m.\u001b[39;49m\u001b[43mrandrange\u001b[49m\u001b[43m(\u001b[49m\u001b[43ma\u001b[49m\u001b[43m,\u001b[49m\u001b[43m \u001b[49m\u001b[43mb\u001b[49m\u001b[38;5;241;43m+\u001b[39;49m\u001b[38;5;241;43m1\u001b[39;49m\u001b[43m)\u001b[49m\n",
      "File \u001b[1;32m~\\AppData\\Local\\Programs\\Python\\Python310\\lib\\random.py:353\u001b[0m, in \u001b[0;36mRandom.randrange\u001b[1;34m(self, start, stop, step)\u001b[0m\n\u001b[0;32m    351\u001b[0m     \u001b[38;5;28;01mif\u001b[39;00m width \u001b[38;5;241m>\u001b[39m \u001b[38;5;241m0\u001b[39m:\n\u001b[0;32m    352\u001b[0m         \u001b[38;5;28;01mreturn\u001b[39;00m istart \u001b[38;5;241m+\u001b[39m \u001b[38;5;28mself\u001b[39m\u001b[38;5;241m.\u001b[39m_randbelow(width)\n\u001b[1;32m--> 353\u001b[0m     \u001b[38;5;28;01mraise\u001b[39;00m \u001b[38;5;167;01mValueError\u001b[39;00m(\u001b[38;5;124m\"\u001b[39m\u001b[38;5;124mempty range for randrange() (\u001b[39m\u001b[38;5;132;01m%d\u001b[39;00m\u001b[38;5;124m, \u001b[39m\u001b[38;5;132;01m%d\u001b[39;00m\u001b[38;5;124m, \u001b[39m\u001b[38;5;132;01m%d\u001b[39;00m\u001b[38;5;124m)\u001b[39m\u001b[38;5;124m\"\u001b[39m \u001b[38;5;241m%\u001b[39m (istart, istop, width))\n\u001b[0;32m    355\u001b[0m \u001b[38;5;66;03m# Non-unit step argument supplied.\u001b[39;00m\n\u001b[0;32m    356\u001b[0m \u001b[38;5;28;01mif\u001b[39;00m istep \u001b[38;5;241m>\u001b[39m \u001b[38;5;241m0\u001b[39m:\n",
      "\u001b[1;31mValueError\u001b[0m: empty range for randrange() (0, 0, 0)"
     ]
    }
   ],
   "source": [
    "#filtered_pair = []\n",
    "\n",
    "## Filter out TRY\n",
    "#for pair in consistent_pairs:\n",
    "#    if 'TRY' in pair['coint_pair'][0].name or 'TRY' in pair['coint_pair'][1].name:\n",
    "#        continue\n",
    "#    else:\n",
    "#        filtered_pair.append(pair)\n",
    "\n",
    "\n",
    "# Construct a randomly sampled artificial asset\n",
    "rand_index = randint(0, len(consistent_pairs) - 1)\n",
    "pair = consistent_pairs[rand_index]\n",
    "\n",
    "pair_close = get_pairs_close(pair[\"coint_pair\"], start_date, end_date)\n",
    "beta = pair[\"slope\"]\n",
    "artificial_asset = pair_close[\"close0\"] - beta * pair_close[\"close1\"]"
   ]
  },
  {
   "cell_type": "code",
   "execution_count": null,
   "id": "4e412c46-2523-4bc3-a529-65e42b99740f",
   "metadata": {},
   "outputs": [],
   "source": [
    "for pair in filtered_pair:\n",
    "    print(pair['coint_pair'][0].name, pair['coint_pair'][1].name)"
   ]
  },
  {
   "cell_type": "code",
   "execution_count": null,
   "id": "24226e22-836d-41a5-bfcc-3643985714fe",
   "metadata": {
    "tags": []
   },
   "outputs": [],
   "source": [
    "symbol_1_csv = pair['coint_pair'][0].name + '.csv'\n",
    "symbol_2_csv = pair['coint_pair'][1].name + '.csv'\n",
    "aa_csv = 'artificial_asset.csv'\n",
    "\n",
    "pair_close[\"close0\"].to_csv(symbol_1_csv, index=False)\n",
    "pair_close[\"close1\"].to_csv(symbol_2_csv, index=False)\n",
    "artificial_asset.to_csv(aa_csv, index=False)\n",
    "\n",
    "data_1 = pd.read_csv(symbol_1_csv)\n",
    "data_2 = pd.read_csv(symbol_2_csv)\n",
    "aa_data = pd.read_csv(aa_csv)"
   ]
  },
  {
   "cell_type": "code",
   "execution_count": null,
   "id": "85626c34-5738-42d3-899c-82af6d793d64",
   "metadata": {},
   "outputs": [],
   "source": [
    "##################################################\n",
    "# Trade Loop\n",
    "\n",
    "position_type = 0\n",
    "while True:\n",
    "    last_bar_1 = data_1.tail(1)\n",
    "    last_bar_2 = data_2.tail(1)\n",
    "    \n",
    "    new_bar_1, new_bar_2 = new_bar_event_pairs(\n",
    "        pair['coint_pair'][0].name,\n",
    "        pair['coint_pair'][1].name, \n",
    "        last_bar_1, \n",
    "        last_bar_2)\n",
    "    \n",
    "    aa_new_bar = new_bar_1 + beta * new_bar_2\n",
    "    \n",
    "    new_bar_1.to_csv(symbol_1_csv, mode='a', index=False, header=False)\n",
    "    new_bar_2.to_csv(symbol_2_csv, mode='a', index=False, header=False)\n",
    "    aa_new_bar.to_csv(aa_csv, mode='a', index=False, header=False)\n",
    "        \n",
    "    aa_data = pd.read_csv(aa_csv)\n",
    "\n",
    "    lot_size_1 = get_num_of_lots(pair['coint_pair'][0].name, leverage=30, risk=0.005)\n",
    "    lot_size_2 = get_num_of_lots(pair['coint_pair'][1].name, leverage=30, risk=0.005)\n",
    "    \n",
    "    print(f'NEW BAR: {new_bar_1[\"time\"].iloc[0]}')\n",
    "    \n",
    "    trade_engine(\n",
    "        aa_data,\n",
    "        pair['coint_pair'][0].name,\n",
    "        pair['coint_pair'][1].name,\n",
    "        lot_size_1,\n",
    "        lot_size_2,\n",
    "        position_type)\n",
    "    \n",
    "##################################################"
   ]
  }
 ],
 "metadata": {
  "kernelspec": {
   "display_name": "Python 3 (ipykernel)",
   "language": "python",
   "name": "python3"
  },
  "language_info": {
   "codemirror_mode": {
    "name": "ipython",
    "version": 3
   },
   "file_extension": ".py",
   "mimetype": "text/x-python",
   "name": "python",
   "nbconvert_exporter": "python",
   "pygments_lexer": "ipython3",
   "version": "3.10.10"
  }
 },
 "nbformat": 4,
 "nbformat_minor": 5
}

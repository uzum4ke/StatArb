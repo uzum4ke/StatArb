{
 "cells": [
  {
   "cell_type": "code",
   "execution_count": 1,
   "id": "e8d093eb-1d17-4af3-973e-f3bec9421e3e",
   "metadata": {
    "tags": []
   },
   "outputs": [],
   "source": [
    "import yfinance as yf\n",
    "import statsmodels.api as sm\n",
    "from statsmodels.tsa.vector_ar.vecm import coint_johansen\n",
    "from statsmodels.tsa.stattools import adfuller\n",
    "from datetime import datetime, timedelta\n",
    "import numpy as np\n",
    "from itertools import combinations\n",
    "import MetaTrader5 as mt5\n",
    "import pandas as pd\n",
    "from tqdm import tqdm\n",
    "import matplotlib.pyplot as plt"
   ]
  },
  {
   "cell_type": "code",
   "execution_count": 13,
   "id": "cb33fdf7-cc55-4c2b-821e-23ad627e4c95",
   "metadata": {
    "tags": []
   },
   "outputs": [],
   "source": [
    "def get_pairs(location):\n",
    "    mt5.initialize()\n",
    "\n",
    "    symbol_list = []\n",
    "    for symbol in mt5.symbols_get():\n",
    "        if location in symbol.path:\n",
    "            symbol_list.append(symbol)\n",
    "            \n",
    "    return list(combinations(symbol_list, 2))"
   ]
  },
  {
   "cell_type": "code",
   "execution_count": 19,
   "id": "9ee47518-e5e4-4820-8876-c48114cf7a22",
   "metadata": {
    "tags": []
   },
   "outputs": [],
   "source": [
    "def get_bars(symbol, start_date, end_date, timeframe=mt5.TIMEFRAME_M1):\n",
    "    mt5.initialize()\n",
    "    bars = mt5.copy_rates_range(symbol, timeframe, start_date, end_date)\n",
    "    df_bars = pd.DataFrame(bars)\n",
    "    df_bars[\"time\"] = pd.to_datetime(df_bars[\"time\"], unit=\"s\")\n",
    "    return df_bars"
   ]
  },
  {
   "cell_type": "code",
   "execution_count": 20,
   "id": "a07ffcc5-a1c5-47f0-8db2-ac7b20bb2c7a",
   "metadata": {
    "tags": []
   },
   "outputs": [],
   "source": [
    "def get_pairs_close(symbol_pair, start_date, end_date):\n",
    "    mt5.initialize()\n",
    "    \n",
    "    close0 = get_bars(symbol_pair[0].name, start_date, end_date)['close']\n",
    "    close1 = get_bars(symbol_pair[1].name, start_date, end_date)['close']\n",
    "    \n",
    "    if close0.empty or close1.empty:\n",
    "        return pd.Series([], dtype='float64')\n",
    "    else:\n",
    "        pairs_close_data = pd.concat([close0, close1], axis=1, keys = ['close0', 'close1']).dropna()\n",
    "        return pairs_close_data"
   ]
  },
  {
   "cell_type": "code",
   "execution_count": 2,
   "id": "cf78ad85-d028-4798-8796-2aca3f9a7ac0",
   "metadata": {
    "tags": []
   },
   "outputs": [],
   "source": [
    "def first_cointegration_test(pair_close_data):\n",
    "    COINTEGRATION_CONFIDENCE_LEVEL = 95\n",
    "    result = coint_johansen(pair_close_data, 0, 1)\n",
    "    \n",
    "    confidence_level_cols = {\n",
    "        90: 0,\n",
    "        95: 1,\n",
    "        99: 2\n",
    "    }\n",
    "    confidence_level_col = confidence_level_cols[COINTEGRATION_CONFIDENCE_LEVEL]\n",
    "    \n",
    "    trace_crit_value = result.cvt[:, confidence_level_col]\n",
    "    eigen_crit_value = result.cvm[:, confidence_level_col]\n",
    "    \n",
    "    if np.all(result.lr1 >= trace_crit_value) and np.all(result.lr2 >= eigen_crit_value):\n",
    "        return True\n",
    "    else:\n",
    "        return False"
   ]
  },
  {
   "cell_type": "code",
   "execution_count": 3,
   "id": "dcd3f9b1-45de-4254-a5a7-b7e80f72cf29",
   "metadata": {
    "tags": []
   },
   "outputs": [],
   "source": [
    "# Engle-Granger test\n",
    "def second_cointegration_test(pair_close_data):\n",
    "    # Step 1: Perform OLS regression of one time series on the other\n",
    "    y = pair_close_data.iloc[:, 0]\n",
    "    x = sm.add_constant(pair_close_data.iloc[:, 1])\n",
    "    model = sm.OLS(y, x)\n",
    "    results = model.fit()\n",
    "    \n",
    "    # Step 2: Test residuals for stationarity using ADF test\n",
    "    residuals = y - results.predict(x)\n",
    "    adf_result = adfuller(residuals)\n",
    "    \n",
    "    # Step 3: If residuals are stationary, the two time series are considered cointegrated\n",
    "    if adf_result[1] < 0.05:\n",
    "        return results.params[1]\n",
    "    else:\n",
    "        return None\n"
   ]
  },
  {
   "cell_type": "code",
   "execution_count": 25,
   "id": "a6ea47ba-7b9d-4e7e-915c-e2c253d2c0fc",
   "metadata": {
    "tags": []
   },
   "outputs": [],
   "source": [
    "def first_sieve(all_pairs, start_date, end_date):\n",
    "    candidate_stationary_pairs = []\n",
    "    for pair in tqdm(all_pairs):\n",
    "        pairs_close_data = get_pairs_close(pair, start_date, end_date)\n",
    "        if pairs_close_data.empty:\n",
    "            continue\n",
    "        else:\n",
    "            if first_cointegration_test(pairs_close_data):\n",
    "                candidate_stationary_pairs.append(pair)\n",
    "                \n",
    "    return candidate_stationary_pairs"
   ]
  },
  {
   "cell_type": "code",
   "execution_count": 26,
   "id": "6f8959a3-7353-4dc1-94de-d7a7b8d7466e",
   "metadata": {
    "tags": []
   },
   "outputs": [],
   "source": [
    "def second_sieve(candidate_stationary_pairs, start_date, end_date):\n",
    "    stationary_pairs = []\n",
    "    for pair in tqdm(candidate_stationary_pairs):\n",
    "        pairs_close_data = get_pairs_close(pair, start_date, end_date)\n",
    "        if pairs_close_data.empty:\n",
    "            continue\n",
    "        else:\n",
    "            slope = second_cointegration_test(pairs_close_data) \n",
    "            if slope:\n",
    "                stationary_pairs.append({'coint_pair': pair, 'slope' : slope})\n",
    "                \n",
    "    return stationary_pairs"
   ]
  },
  {
   "cell_type": "code",
   "execution_count": 114,
   "id": "479737dd-614c-42a5-a7ca-b3a3cb4f3b3e",
   "metadata": {
    "tags": []
   },
   "outputs": [
    {
     "name": "stderr",
     "output_type": "stream",
     "text": [
      "100%|██████████████████████████████████████████████████████████████████████████████| 1891/1891 [00:44<00:00, 42.52it/s]\n",
      "100%|██████████████████████████████████████████████████████████████████████████████████| 70/70 [00:03<00:00, 21.37it/s]\n"
     ]
    }
   ],
   "source": [
    "#1 Get all symbols and form a list of pairs\n",
    "location = \"Retail\\\\Forex\"\n",
    "all_pairs = get_pairs(location)  \n",
    "\n",
    "end_date = datetime.now()\n",
    "start_date = end_date - timedelta(days = 1)\n",
    "\n",
    "#2 For all pairs check for stationarity and return a list of pairs that are stationary\n",
    "candidate_stationary_pairs = first_sieve(all_pairs, start_date, end_date)\n",
    "stationary_pairs = second_sieve(candidate_stationary_pairs, start_date, end_date)"
   ]
  },
  {
   "cell_type": "code",
   "execution_count": 115,
   "id": "f76e8d94-2232-4e9a-9756-359b9185547c",
   "metadata": {
    "tags": []
   },
   "outputs": [
    {
     "name": "stdout",
     "output_type": "stream",
     "text": [
      "GBPUSD USDCAD -0.7108245763529889\n",
      "GBPUSD EURTRY 0.03420191990190327\n",
      "GBPUSD GBPTRY 0.028617686374499903\n",
      "EURAUD GBPAUD 0.7513399441211197\n",
      "CHFJPY EURGBP 363.24450616032226\n",
      "EURGBP GBPCAD -0.14381938285014728\n",
      "EURGBP EURSGD 0.18678345031064847\n",
      "EURCAD GBPCAD 0.5930436848962484\n",
      "EURCAD AUDSGD 0.020989694452891783\n",
      "EURCAD EURTRY 0.004044631437212974\n",
      "EURCAD GBPAUD -0.0043736486741160485\n",
      "EURCAD USDTRY -0.028012109901219245\n",
      "GBPCAD AUDSGD -0.06702730756415809\n",
      "GBPCAD EURSGD -0.042524076399070854\n",
      "GBPCAD GBPAUD 0.09980616015122878\n",
      "GBPCAD GBPSGD 0.1618809999283295\n",
      "GBPCAD NZDCHF -0.2809280135408537\n",
      "GBPCAD USDTRY -0.02391871956419525\n",
      "GBPCAD ZARJPY -0.017402391792786246\n",
      "EURTRY GBPTRY 0.8261037039293354\n",
      "EURZAR GBPSGD 13.193426496351371\n",
      "EURZAR USDTRY -2.023509224471663\n",
      "GBPSGD GBPTRY 0.018812361666990414\n",
      "GBPSGD NOKSEK 0.4494668992995017\n",
      "GBPTRY NZDCHF 16.835394584825465\n",
      "NOKSEK USDMXN -0.00663017979733195\n",
      "USDTRY USDZAR -0.04920370045984557\n"
     ]
    }
   ],
   "source": [
    "#print((len(candidate_stationary_pairs) * 100) / len(all_pairs))\n",
    "#print(len(all_pairs))\n",
    "#print(len(candidate_stationary_pairs))\n",
    "#print(len(stationary_pairs))\n",
    "\n",
    "for data in stationary_pairs:\n",
    "    print(data['coint_pair'][0].name, data['coint_pair'][1].name, data['slope'])\n"
   ]
  },
  {
   "cell_type": "code",
   "execution_count": 189,
   "id": "47b8b291-34c7-4c02-bb72-9378227c3bd7",
   "metadata": {
    "tags": []
   },
   "outputs": [
    {
     "data": {
      "image/png": "[encoded data removed]",
      "text/plain": [
       "<Figure size 640x480 with 1 Axes>"
      ]
     },
     "metadata": {},
     "output_type": "display_data"
    }
   ],
   "source": [
    "index = 3\n",
    "stationary_pair = get_pairs_close(stationary_pairs[index]['coint_pair'], start_date, end_date)\n",
    "beta = stationary_pairs[0]['slope']\n",
    "equation = stationary_pair['close0'] - beta * stationary_pair['close1']\n",
    "plt.plot(equation)\n",
    "plt.axhline(equation.mean(), color='g', linestyle='-')\n",
    "plt.axhline(equation.mean() + equation.std(), color='y', linestyle='-')\n",
    "plt.axhline(equation.mean() - equation.std(), color='y', linestyle='-')\n",
    "plt.axhline(equation.mean() + 2 * equation.std(), color='r', linestyle='-')\n",
    "plt.axhline(equation.mean() - 2 * equation.std(), color='r', linestyle='-')\n",
    "plt.show()"
   ]
  },
  {
   "cell_type": "code",
   "execution_count": 192,
   "id": "8e5bdde6-9fd9-4750-99e0-80288d547be2",
   "metadata": {
    "tags": []
   },
   "outputs": [],
   "source": [
    "def in_sample_backtester(equation, account_balance=1000, percentage_of_portfolio_at_risk=0.05, risk_tolerance = 0.01):\n",
    "    print(f'ACCOUNT BALANCE: {account_balance}')\n",
    "    print(f'PERCENTAGE AT RISK: {percentage_of_portfolio_at_risk}')\n",
    "    print(f'RISK TOLERANCE: {risk_tolerance}')\n",
    "    print()\n",
    "    \n",
    "    win_counter = 0\n",
    "    loss_counter = 0\n",
    "    \n",
    "    total_losses_allowed = account_balance * percentage_of_portfolio_at_risk\n",
    "    position_size = account_balance * risk_tolerance\n",
    "\n",
    "    entry_high = equation.mean() + equation.std()\n",
    "    entry_low = equation.mean() - equation.std()\n",
    "    stop_loss_high = equation.mean() + 2 * equation.std()\n",
    "    stop_loss_low = equation.mean() - 2 * equation.std()\n",
    "    take_profit = equation.mean()\n",
    "\n",
    "    in_a_position = False\n",
    "    for i in range(1, len(equation)):\n",
    "        if not in_a_position:\n",
    "            if equation[i-1] < entry_high and equation[i] >= entry_high:\n",
    "                print('Buy High', equation[i])\n",
    "                in_a_position = True\n",
    "                continue\n",
    "            elif equation[i-1] > entry_low and equation[i] <= entry_low:\n",
    "                print('Buy Low', equation[i])\n",
    "                in_a_position = True\n",
    "                continue\n",
    "            else:\n",
    "                continue\n",
    "            \n",
    "        if in_a_position:\n",
    "            if equation[i-1] > take_profit and equation[i] <= take_profit:\n",
    "                print('TP High', equation[i])\n",
    "                in_a_position = False\n",
    "                win_counter += 1\n",
    "                account_balance += position_size\n",
    "                print(account_balance)\n",
    "                continue\n",
    "            elif equation[i-1] < take_profit and equation[i] >= take_profit:\n",
    "                print('TP Low', equation[i])\n",
    "                in_a_position = False\n",
    "                win_counter += 1\n",
    "                account_balance += position_size\n",
    "                print(account_balance)\n",
    "                continue\n",
    "            elif equation[i-1] < stop_loss_high and equation[i] >= stop_loss_high:\n",
    "                print('SL High', equation[i])\n",
    "                in_a_position = False\n",
    "                loss_counter += 1\n",
    "                account_balance -= position_size\n",
    "                if account_balance <= total_losses_allowed:\n",
    "                    print(\"Account totalled\")\n",
    "                    return\n",
    "                print(account_balance)\n",
    "                continue\n",
    "            elif equation[i-1] > stop_loss_low and equation[i] <= stop_loss_low:\n",
    "                print('SL Low', equation[i])\n",
    "                in_a_position = False\n",
    "                loss_counter += 1\n",
    "                account_balance -= position_size\n",
    "                if account_balance <= total_losses_allowed:\n",
    "                    print(\"Account totalled\")\n",
    "                    return\n",
    "                print(account_balance)\n",
    "                continue\n",
    "            else:\n",
    "                #print(\"DOING NOTHING\")\n",
    "                continue\n",
    "            \n",
    "    print()\n",
    "    try:\n",
    "        print(f'PROFIT/LOSS Ratio: {win_counter / loss_counter}')\n",
    "    except ZeroDivisionError:\n",
    "        print(f'NO LOSSES!')\n",
    "        print(f'WINS: {win_counter}')\n",
    "        print(f'LOSSES: {loss_counter}')\n",
    "        \n",
    "        \n",
    "    print(f'Final Balance: {account_balance}')\n"
   ]
  },
  {
   "cell_type": "code",
   "execution_count": 196,
   "id": "7bb4da39-6a69-47c4-84fc-69ee6ba0e355",
   "metadata": {
    "tags": []
   },
   "outputs": [
    {
     "name": "stdout",
     "output_type": "stream",
     "text": [
      "ACCOUNT BALANCE: 1000\n",
      "PERCENTAGE AT RISK: 0.05\n",
      "RISK TOLERANCE: 0.01\n",
      "\n",
      "Buy High 2.9093682437593786\n",
      "TP High 2.9037290330048524\n",
      "1010.0\n",
      "Buy High 2.9092764500644046\n",
      "TP High 2.903010842301454\n",
      "1020.0\n",
      "Buy Low 2.8985573329196406\n",
      "TP Low 2.9044762233863763\n",
      "1030.0\n",
      "Buy Low 2.898163311902888\n",
      "TP Low 2.9043736872508092\n",
      "1040.0\n",
      "Buy Low 2.8985050234621017\n",
      "\n",
      "NO LOSSES!\n",
      "WINS: 4\n",
      "LOSSES: 0\n",
      "Final Balance: 1040.0\n"
     ]
    }
   ],
   "source": [
    "in_sample_backtester(equation)"
   ]
  },
  {
   "cell_type": "code",
   "execution_count": null,
   "id": "6ba8183c-84da-48ad-aeab-d46d0a78ec2b",
   "metadata": {},
   "outputs": [],
   "source": [
    "def test_stationary_processes():\n",
    "    #1 Sample several (all if able) combination of 4-tuple of all stationary_pairs\n",
    "    # Test the four pairs for Granger causality and Cross-correlation and reject if there exist relationships, resample\n",
    "    #2 Backtest all four and return the four pairs that performed the best"
   ]
  }
 ],
 "metadata": {
  "kernelspec": {
   "display_name": "Python 3 (ipykernel)",
   "language": "python",
   "name": "python3"
  },
  "language_info": {
   "codemirror_mode": {
    "name": "ipython",
    "version": 3
   },
   "file_extension": ".py",
   "mimetype": "text/x-python",
   "name": "python",
   "nbconvert_exporter": "python",
   "pygments_lexer": "ipython3",
   "version": "3.10.10"
  }
 },
 "nbformat": 4,
 "nbformat_minor": 5
}
